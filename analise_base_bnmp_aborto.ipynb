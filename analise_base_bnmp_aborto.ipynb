{
 "cells": [
  {
   "cell_type": "markdown",
   "metadata": {},
   "source": [
    "# ANÁLISE DA BASE BNMP"
   ]
  },
  {
   "cell_type": "code",
   "execution_count": null,
   "metadata": {},
   "outputs": [],
   "source": [
    "# Importação de bibliotecas e módulos\n",
    "import pandas as pd\n",
    "import numpy as np"
   ]
  },
  {
   "cell_type": "code",
   "execution_count": null,
   "metadata": {},
   "outputs": [],
   "source": [
    "# Define função de checagem de df\n",
    "def check_df(df):\n",
    "    \"\"\" exibe primeiras linhas do dataframe e suas quantidades de linhas e colunas.\n",
    "    INPUT:\n",
    "    df - o dataframe analisado\n",
    "    OUTPUT:\n",
    "    exibe as 3 primneiras linhas do dataframe e imprime:\n",
    "    \"O dataframe possui {} linhas e {} colunas\", com os totais de linhas e colunas.    \n",
    "    \"\"\"\n",
    "    display(df.head(3))\n",
    "    display(df.tail(3))\n",
    "    print(\"O dataframe possui {} linhas e {} colunas\".format(df.shape[0],df.shape[1]))"
   ]
  },
  {
   "cell_type": "markdown",
   "metadata": {},
   "source": [
    "##### Os dados estavam separados em dataframes por Estados. Aqui estamos agrupando todos eles em um dataframe só. "
   ]
  },
  {
   "cell_type": "code",
   "execution_count": null,
   "metadata": {
    "scrolled": true
   },
   "outputs": [],
   "source": [
    "# Carrega conjunto de dados\n",
    "#Acre\n",
    "acre = pd.read_csv(\"mandados_AC.csv\", \";\", encoding=\"utf-8\")\n",
    "\n",
    "#Alagoas\n",
    "alagoas = pd.read_csv(\"mandados_AL.csv\", \";\", encoding=\"utf-8\")\n",
    "\n",
    "#Amapá\n",
    "amapa = pd.read_csv(\"mandados_AP.csv\", \";\", encoding=\"utf-8\")\n",
    "\n",
    "#Amazonas\n",
    "amazonas = pd.read_csv(\"mandados_AM.csv\", \";\", encoding=\"utf-8\")\n",
    "\n",
    "#Bahia\n",
    "bahia = pd.read_csv(\"mandados_BA.csv\", \";\", encoding=\"utf-8\")\n",
    "\n",
    "#Ceará\n",
    "ceara = pd.read_csv(\"mandados_CE.csv\", \";\", encoding=\"utf-8\")\n",
    "\n",
    "#Distrito Federal\n",
    "distrito = pd.read_csv(\"mandados_DF.csv\", \";\", encoding=\"utf-8\")\n",
    "\n",
    "#Espírito Santos\n",
    "espirito = pd.read_csv(\"mandados_ES.csv\", \";\", encoding=\"utf-8\")\n",
    "\n",
    "#Goiás\n",
    "goias = pd.read_csv(\"mandados_GO.csv\", \";\", encoding=\"utf-8\")\n",
    "\n",
    "#Maranhão\n",
    "maranhao = pd.read_csv(\"mandados_MA.csv\", \";\", encoding=\"utf-8\")\n",
    "\n",
    "#Mato Grosso\n",
    "matogrosso = pd.read_csv(\"mandados_MT.csv\", \";\", encoding=\"utf-8\")\n",
    "\n",
    "#Mato Grosso do Sul\n",
    "matogrossodosul = pd.read_csv(\"mandados_MS.csv\", \";\", encoding=\"utf-8\")\n",
    "\n",
    "#Minas Gerais\n",
    "minas = pd.read_csv(\"mandados_MG.csv\", \";\", encoding=\"utf-8\")\n",
    "\n",
    "#Pará\n",
    "para = pd.read_csv(\"mandados_PA.csv\", \";\", encoding=\"utf-8\")\n",
    "\n",
    "#Paraíba\n",
    "paraiba = pd.read_csv(\"mandados_PB.csv\", \";\", encoding=\"utf-8\")\n",
    "\n",
    "#Paraná\n",
    "parana = pd.read_csv(\"mandados_PR.csv\", \";\", encoding=\"utf-8\")\n",
    "\n",
    "#Pernambuco\n",
    "pernambuco = pd.read_csv(\"mandados_PE.csv\", \";\", encoding=\"utf-8\")\n",
    "\n",
    "#Piauí\n",
    "piaui = pd.read_csv(\"mandados_PI.csv\", \";\", encoding=\"utf-8\")\n",
    "\n",
    "#Rio de Janeiro\n",
    "# Como não tem labels neste df, estou criando.\n",
    "labels = ['ident', 'num_mandado', 'situacao', 'data', 'validade', 'num_processo', 'classe', 'boletim_ocorrencias',\n",
    "          'assuntos', 'magistrado', 'orgao_expedidor', 'municipio', 'nomes', 'documentos', 'sexos', \n",
    "          'pais', 'maes', 'nacionalidades', 'naturalidades', 'dt_nascimentos', 'profissoes', 'enderecos',\n",
    "          'data_delitos', 'motivo', 'recaptura', 'sintese', 'pena', 'regime']\n",
    "riodejaneiro = pd.read_csv(\"mandados_RJ.csv\", \";\", names=labels, encoding=\"utf-8\")\n",
    "\n",
    "#Rio Grande do Norte\n",
    "riograndedonorte = pd.read_csv(\"mandados_RN.csv\", \";\", encoding=\"utf-8\")\n",
    "\n",
    "#Rio Grande do Sul\n",
    "riograndedosul = pd.read_csv(\"mandados_RS.csv\", \";\", encoding=\"utf-8\")\n",
    "\n",
    "#Rondônia\n",
    "rondonia = pd.read_csv(\"mandados_RO.csv\", \";\", encoding=\"utf-8\")\n",
    "\n",
    "#Roraima\n",
    "roraima = pd.read_csv(\"mandados_RR.csv\", \";\", encoding=\"utf-8\")\n",
    "\n",
    "#Santa Catarina\n",
    "santacatarina = pd.read_csv(\"mandados_SC.csv\", \";\", encoding=\"utf-8\")\n",
    "\n",
    "#São Paulo\n",
    "saopaulo = pd.read_csv(\"mandados_SP.csv\", \";\", encoding=\"utf-8\")\n",
    "\n",
    "#Sergipe\n",
    "sergipe = pd.read_csv(\"mandados_SE.csv\", \";\", encoding=\"utf-8\")\n",
    "\n",
    "#Tocantis\n",
    "tocantins = pd.read_csv(\"mandados_TO.csv\", \";\", encoding=\"utf-8\")"
   ]
  },
  {
   "cell_type": "code",
   "execution_count": null,
   "metadata": {},
   "outputs": [],
   "source": [
    "# Adiciona uma coluna 'estado' para cada um dos items e coloca o nome do estado para cada um dos dfs\n",
    "labels = [  'acre',\n",
    "            'alagoas',\n",
    "            'amapa',\n",
    "            'amazonas',\n",
    "            'bahia',\n",
    "            'ceara',\n",
    "            'distrito',\n",
    "            'espirito',\n",
    "            'goias',\n",
    "            'maranhao',\n",
    "            'matogrosso',\n",
    "            'matogrossodosul',\n",
    "            'minas',\n",
    "            'para',\n",
    "            'paraiba',\n",
    "            'parana',\n",
    "            'pernambuco',\n",
    "            'piaui',\n",
    "            'riodejaneiro',\n",
    "            'riograndedonorte',\n",
    "            'riograndedosul',\n",
    "            'rondonia',\n",
    "            'roraima',\n",
    "            'santacatarina',\n",
    "            'saopaulo',\n",
    "            'sergipe',\n",
    "            'tocantins' ]\n",
    "\n",
    "datasets = [ acre,\n",
    "            alagoas,\n",
    "            amapa,\n",
    "            amazonas,\n",
    "            bahia,\n",
    "            ceara,\n",
    "            distrito,\n",
    "            espirito,\n",
    "            goias,\n",
    "            maranhao,\n",
    "            matogrosso,\n",
    "            matogrossodosul,\n",
    "            minas,\n",
    "            para,\n",
    "            paraiba,\n",
    "            parana,\n",
    "            pernambuco,\n",
    "            piaui,\n",
    "            riodejaneiro,\n",
    "            riograndedonorte,\n",
    "            riograndedosul,\n",
    "            rondonia,\n",
    "            roraima,\n",
    "            santacatarina,\n",
    "            saopaulo,\n",
    "            sergipe,\n",
    "            tocantins ]\n",
    "\n",
    "for label, dataset in zip(labels, datasets):\n",
    "    dataset['estado'] = label"
   ]
  },
  {
   "cell_type": "code",
   "execution_count": null,
   "metadata": {},
   "outputs": [],
   "source": [
    "# Junta a lista de datasets alterados\n",
    "df = pd.concat(datasets)"
   ]
  },
  {
   "cell_type": "code",
   "execution_count": null,
   "metadata": {
    "scrolled": true
   },
   "outputs": [],
   "source": [
    "check_df(df)"
   ]
  },
  {
   "cell_type": "markdown",
   "metadata": {},
   "source": [
    "##### Agora nos vamos fazer o nosso recorte pelo crime de aborto"
   ]
  },
  {
   "cell_type": "code",
   "execution_count": null,
   "metadata": {},
   "outputs": [],
   "source": [
    "# Apenas linhas em que o assunto tenha a palavra aborto\n",
    "aborto = df[df['assuntos'].str.contains(\"Aborto\") == True]\n",
    "check_df(aborto)"
   ]
  },
  {
   "cell_type": "code",
   "execution_count": null,
   "metadata": {},
   "outputs": [],
   "source": [
    "# Salvando df geral de aborto\n",
    "aborto.to_csv('aborto.csv',\";\", encoding= \"utf-8\")"
   ]
  },
  {
   "cell_type": "markdown",
   "metadata": {},
   "source": [
    "### Analisando base de aborto"
   ]
  },
  {
   "cell_type": "code",
   "execution_count": null,
   "metadata": {
    "scrolled": true
   },
   "outputs": [],
   "source": [
    "# Chamando o csv 'aborto'\n",
    "aborto = pd.read_csv(\"aborto.csv\", \";\", encoding=\"utf-8\")\n",
    "\n",
    "check_df(aborto)"
   ]
  },
  {
   "cell_type": "markdown",
   "metadata": {},
   "source": [
    "#### Apagando nomes duplicados\n",
    "##### O aparecimento do mesmo nome significa que uma mesma pessoa possui mais de um mandado. Também pode significar que o seu processo passou para outra instância. Descartamos os nomes duplicados para tratar somente das pessoas, e não dos casos. "
   ]
  },
  {
   "cell_type": "code",
   "execution_count": null,
   "metadata": {},
   "outputs": [],
   "source": [
    "# Verifica todos os nomes\n",
    "aborto[\"nomes\"].value_counts()"
   ]
  },
  {
   "cell_type": "code",
   "execution_count": null,
   "metadata": {},
   "outputs": [],
   "source": [
    "# Conta nomes duplicados\n",
    "aborto[(aborto.nomes.duplicated(keep=False))].nomes.count()"
   ]
  },
  {
   "cell_type": "code",
   "execution_count": null,
   "metadata": {
    "scrolled": false
   },
   "outputs": [],
   "source": [
    "# Apaga nomes duplicados\n",
    "aborto_semduplicado = aborto.drop(aborto[(aborto.nomes.duplicated(keep=False))].index)\n",
    "check_df(aborto_semduplicado)"
   ]
  },
  {
   "cell_type": "markdown",
   "metadata": {},
   "source": [
    "#### Análise de aborto"
   ]
  },
  {
   "cell_type": "code",
   "execution_count": null,
   "metadata": {},
   "outputs": [],
   "source": [
    "# Contabiliza por sexo\n",
    "aborto_semduplicado[\"sexos\"].value_counts()"
   ]
  },
  {
   "cell_type": "code",
   "execution_count": null,
   "metadata": {
    "scrolled": true
   },
   "outputs": [],
   "source": [
    "# Contabiliza por Estados\n",
    "aborto[\"estado\"].value_counts()"
   ]
  },
  {
   "cell_type": "code",
   "execution_count": null,
   "metadata": {},
   "outputs": [],
   "source": [
    "# Contabiliza só por homens\n",
    "MASCULINO = aborto_semduplicado.loc[aborto_semduplicado['sexos']=='MASCULINO']\n",
    "MASCULINO[\"assuntos\"].value_counts()"
   ]
  },
  {
   "cell_type": "code",
   "execution_count": null,
   "metadata": {},
   "outputs": [],
   "source": [
    "# Contabiliza só por mulheres\n",
    "feminino = aborto_analise.loc[aborto_analise['sexos']=='FEMININO']\n",
    "feminino[\"assuntos\"].value_counts()"
   ]
  }
 ],
 "metadata": {
  "kernelspec": {
   "display_name": "Python 3",
   "language": "python",
   "name": "python3"
  },
  "language_info": {
   "codemirror_mode": {
    "name": "ipython",
    "version": 3
   },
   "file_extension": ".py",
   "mimetype": "text/x-python",
   "name": "python",
   "nbconvert_exporter": "python",
   "pygments_lexer": "ipython3",
   "version": "3.7.3"
  }
 },
 "nbformat": 4,
 "nbformat_minor": 2
}
